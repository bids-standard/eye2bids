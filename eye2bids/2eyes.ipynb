{
 "cells": [
  {
   "cell_type": "code",
   "execution_count": 4,
   "metadata": {},
   "outputs": [],
   "source": [
    "from __future__ import annotations\n",
    "\n",
    "import gzip\n",
    "import json\n",
    "import subprocess\n",
    "from pathlib import Path\n",
    "\n",
    "import numpy as np\n",
    "import pandas as pd\n",
    "import yaml\n",
    "from rich.prompt import Prompt\n",
    "from yaml.loader import SafeLoader"
   ]
  },
  {
   "cell_type": "code",
   "execution_count": 5,
   "metadata": {},
   "outputs": [],
   "source": [
    "events_asc_file = \"/Users/julia/Desktop/NOWA.nosync/eyelink/2eyes/sub-99_task-FreeView_run-01_eyeData_events.asc\""
   ]
  },
  {
   "cell_type": "code",
   "execution_count": 6,
   "metadata": {},
   "outputs": [],
   "source": [
    "def _load_asc_file(events_asc_file: str | Path) -> list[str]:\n",
    "    with open(events_asc_file) as f:\n",
    "        return f.readlines()\n",
    "\n",
    "\n",
    "def _load_asc_file_as_df(events_asc_file: str | Path) -> pd.DataFrame:\n",
    "    # dataframe for events, all\n",
    "    events = _load_asc_file(events_asc_file)\n",
    "    return pd.DataFrame([ms.split() for ms in events if ms.startswith(\"MSG\")])\n",
    "\n",
    "\n",
    "def _load_asc_file_as_reduced_df(events_asc_file: str | Path) -> pd.DataFrame:\n",
    "    # reduced dataframe without MSG and sample columns\n",
    "    df_ms = _load_asc_file_as_df(events_asc_file)\n",
    "    return pd.DataFrame(df_ms.iloc[0:, 2:])"
   ]
  },
  {
   "cell_type": "code",
   "execution_count": 7,
   "metadata": {},
   "outputs": [],
   "source": [
    "events = _load_asc_file(events_asc_file)\n",
    "df_ms = _load_asc_file_as_df(events_asc_file)\n",
    "df_ms_reduced = _load_asc_file_as_reduced_df(events_asc_file)"
   ]
  },
  {
   "cell_type": "code",
   "execution_count": 8,
   "metadata": {},
   "outputs": [],
   "source": [
    "def _calibrations(df: pd.DataFrame) -> pd.DataFrame:\n",
    "    return df[df[3] == \"CALIBRATION\"]"
   ]
  },
  {
   "cell_type": "code",
   "execution_count": 9,
   "metadata": {},
   "outputs": [],
   "source": [
    "def _extract_CalibrationType(df: pd.DataFrame) -> list[int]:\n",
    "    return _calibrations(df).iloc[0:1, 2:3].to_string(header=False, index=False)"
   ]
  },
  {
   "cell_type": "code",
   "execution_count": 10,
   "metadata": {},
   "outputs": [],
   "source": [
    "def _extract_CalibrationCount(df: pd.DataFrame) -> int:\n",
    "    if _extract_RecordedEye(df) == \"Both\":\n",
    "        return len(_calibrations(df)) // 2\n",
    "    return len(_calibrations(df))"
   ]
  },
  {
   "cell_type": "code",
   "execution_count": 11,
   "metadata": {},
   "outputs": [],
   "source": [
    "def _get_calibration_positions(df: pd.DataFrame) -> list[int]:\n",
    "    if _extract_RecordedEye(df) == \"Both\":\n",
    "        return (\n",
    "            np.array(df[df[2] == \"VALIDATE\"][8].str.split(\",\", expand=True))\n",
    "            .astype(int)\n",
    "            .tolist()\n",
    "        )[::2]\n",
    "    return (\n",
    "        np.array(df[df[2] == \"VALIDATE\"][8].str.split(\",\", expand=True))\n",
    "        .astype(int)\n",
    "        .tolist()\n",
    "    )"
   ]
  },
  {
   "cell_type": "code",
   "execution_count": 12,
   "metadata": {},
   "outputs": [],
   "source": [
    "def _extract_CalibrationPosition(df: pd.DataFrame) -> list[list[int]]:\n",
    "    cal_pos = _get_calibration_positions(df)\n",
    "    cal_num = len(cal_pos) // _extract_CalibrationCount(df)\n",
    "\n",
    "    CalibrationPosition: list[list[int]] = []\n",
    "\n",
    "    if len(cal_pos) == 0:\n",
    "        return CalibrationPosition\n",
    "\n",
    "    CalibrationPosition.extend(\n",
    "        cal_pos[i : i + cal_num] for i in range(0, len(cal_pos), cal_num)\n",
    "    )\n",
    "    return CalibrationPosition"
   ]
  },
  {
   "cell_type": "code",
   "execution_count": 13,
   "metadata": {},
   "outputs": [],
   "source": [
    "def _extract_CalibrationUnit(df: pd.DataFrame) -> str:\n",
    "    if len(_get_calibration_positions(df)) == 0:\n",
    "        return \"\"\n",
    "\n",
    "    cal_unit = (\n",
    "        (df[df[2] == \"VALIDATE\"][[13]])\n",
    "        .iloc[0:1, 0:1]\n",
    "        .to_string(header=False, index=False)\n",
    "    )\n",
    "    if cal_unit == \"pix.\":\n",
    "        return \"pixel\"\n",
    "    elif cal_unit in [\"cm\", \"mm\"]:\n",
    "        return cal_unit\n",
    "    return \"\""
   ]
  },
  {
   "cell_type": "code",
   "execution_count": 14,
   "metadata": {},
   "outputs": [],
   "source": [
    "def _extract_EyeTrackingMethod(events: list[str]) -> str:\n",
    "    return (\n",
    "        pd.DataFrame(\n",
    "            \" \".join([tm for tm in events if tm.startswith(\">>>>>>>\")])\n",
    "            .replace(\")\", \",\")\n",
    "            .split(\",\")\n",
    "        )\n",
    "        .iloc[1:2]\n",
    "        .to_string(header=False, index=False)\n",
    "    )"
   ]
  },
  {
   "cell_type": "code",
   "execution_count": 15,
   "metadata": {},
   "outputs": [],
   "source": [
    "def _extract_DeviceSerialNumber(events: list[str]) -> str:\n",
    "    return (\n",
    "        \" \".join([sl for sl in events if sl.startswith(\"** SERIAL NUMBER:\")])\n",
    "        .replace(\"** SERIAL NUMBER: \", \"\")\n",
    "        .replace(\"\\n\", \"\")\n",
    "    )"
   ]
  },
  {
   "cell_type": "code",
   "execution_count": 16,
   "metadata": {},
   "outputs": [],
   "source": [
    "def _extract_PupilFitMethod(df: pd.DataFrame) -> str:\n",
    "    return (df[df[2] == \"ELCL_PROC\"]).iloc[0:1, 1:2].to_string(header=False, index=False)"
   ]
  },
  {
   "cell_type": "code",
   "execution_count": 17,
   "metadata": {},
   "outputs": [],
   "source": [
    "def _extract_SamplingFrequency(df: pd.DataFrame) -> int:\n",
    "    return int(df[df[2] == \"RECCFG\"].iloc[0:1, 2:3].to_string(header=False, index=False))"
   ]
  },
  {
   "cell_type": "code",
   "execution_count": 18,
   "metadata": {},
   "outputs": [],
   "source": [
    "def _validations(df: pd.DataFrame) -> pd.DataFrame:\n",
    "    return df[df[3] == \"VALIDATION\"]"
   ]
  },
  {
   "cell_type": "code",
   "execution_count": 19,
   "metadata": {},
   "outputs": [],
   "source": [
    "def _has_validation(df: pd.DataFrame) -> bool:\n",
    "    return not _validations(df).empty"
   ]
  },
  {
   "cell_type": "code",
   "execution_count": 20,
   "metadata": {},
   "outputs": [],
   "source": [
    "def _extract_ManufacturersModelName(events: list[str]) -> str:\n",
    "    return (\n",
    "        \" \".join([ml for ml in events if ml.startswith(\"** EYELINK\")])\n",
    "        .replace(\"** \", \"\")\n",
    "        .replace(\"\\n\", \"\")\n",
    "    )"
   ]
  },
  {
   "cell_type": "code",
   "execution_count": 21,
   "metadata": {},
   "outputs": [],
   "source": [
    "def _extract_ScreenResolution(df: pd.DataFrame) -> list[int]:\n",
    "    list_res = (\n",
    "        (df[df[2] == \"GAZE_COORDS\"])\n",
    "        .iloc[0:1, 3:5]\n",
    "        .to_string(header=False, index=False)\n",
    "        .replace(\".00\", \"\")\n",
    "        .split(\" \")\n",
    "    )\n",
    "    return [eval(i) for i in list_res]"
   ]
  },
  {
   "cell_type": "code",
   "execution_count": 22,
   "metadata": {},
   "outputs": [],
   "source": [
    "def _extract_TaskName(events: list[str]) -> str:\n",
    "    return (\n",
    "        \" \".join([ts for ts in events if ts.startswith(\"** RECORDED BY\")])\n",
    "        .replace(\"** RECORDED BY \", \"\")\n",
    "        .replace(\"\\n\", \"\")\n",
    "    )"
   ]
  },
  {
   "cell_type": "code",
   "execution_count": 23,
   "metadata": {},
   "outputs": [],
   "source": [
    "def _extract_StartTime(events: list[str]) -> int:\n",
    "    StartTime = (\n",
    "        np.array(pd.DataFrame([st.split() for st in events if st.startswith(\"START\")])[1])\n",
    "        .astype(int)\n",
    "        .tolist()\n",
    "    )\n",
    "    if len(StartTime) > 1:\n",
    "        e2b_log.info(\n",
    "            \"\"\"Your input file contains multiple start times.\\n\n",
    "             As this is not seen as good practice in eyetracking experiments, \\n\n",
    "             only the first start time will be kept for the metadata file. \\n\n",
    "             Please consider changing your code accordingly\n",
    "             for future eyetracking experiments.\\n\"\"\"\n",
    "        )\n",
    "        return StartTime[0]\n",
    "    return StartTime"
   ]
  },
  {
   "cell_type": "code",
   "execution_count": 24,
   "metadata": {},
   "outputs": [],
   "source": [
    "def _extract_StopTime(events: list[str]) -> int:\n",
    "    StopTime = (\n",
    "        np.array(pd.DataFrame([so.split() for so in events if so.startswith(\"END\")])[1])\n",
    "        .astype(int)\n",
    "        .tolist()\n",
    "    )\n",
    "    if len(StopTime) > 1:\n",
    "        e2b_log.info(\n",
    "            \"\"\"Your input file contains multiple stop times.\\n\n",
    "             As this is not seen as good practice in eyetracking experiments, \\n\n",
    "             only the last stop time will be kept for the metadata file. \\n\n",
    "             Please consider changing your code accordingly\n",
    "             for future eyetracking experiments.\\n\"\"\"\n",
    "        )\n",
    "        return StopTime[-1]\n",
    "    return StopTime"
   ]
  },
  {
   "cell_type": "code",
   "execution_count": 25,
   "metadata": {},
   "outputs": [],
   "source": [
    "\n",
    "def _extract_RecordedEye(df: pd.DataFrame) -> str:\n",
    "    eye = df[df[2] == \"RECCFG\"].iloc[0:1, 5:6].to_string(header=False, index=False)\n",
    "    if eye == \"L\":\n",
    "        return \"Left\"\n",
    "    elif eye == \"R\":\n",
    "        return \"Right\"\n",
    "    elif eye == \"LR\":\n",
    "        return [\"Left\", \"Right\"]\n",
    "    return \"\""
   ]
  },
  {
   "cell_type": "code",
   "execution_count": 26,
   "metadata": {},
   "outputs": [
    {
     "name": "stdout",
     "output_type": "stream",
     "text": [
      "CLG-BAF38 P-CR EYELINK II CL v5.12 May 12 2017 pixel HV13 CENTROID 1000 [767979] [819652]\n"
     ]
    }
   ],
   "source": [
    "DeviceSerialNumber = _extract_DeviceSerialNumber(events)\n",
    "EyeTrackingMethod = _extract_EyeTrackingMethod(events)\n",
    "ManufacturersModelName = _extract_ManufacturersModelName(events)\n",
    "CalibrationUnit = _extract_CalibrationUnit(df_ms_reduced)\n",
    "CalibrationType = _extract_CalibrationType(df_ms_reduced)\n",
    "PupilFitMethod = _extract_PupilFitMethod(df_ms_reduced)\n",
    "SamplingFrequency = _extract_SamplingFrequency(df_ms_reduced)\n",
    "StartTime = _extract_StartTime(events)\n",
    "StopTime = _extract_StopTime(events)\n",
    "\n",
    "print(DeviceSerialNumber, EyeTrackingMethod, ManufacturersModelName, CalibrationUnit, CalibrationType, PupilFitMethod, SamplingFrequency, StartTime, StopTime)"
   ]
  },
  {
   "cell_type": "code",
   "execution_count": 65,
   "metadata": {},
   "outputs": [],
   "source": [
    "def _2eyesmode(df: pd.DataFrame) -> bool:\n",
    "    eye = df[df[2] == \"RECCFG\"].iloc[0:1, 5:6].to_string(header=False, index=False)\n",
    "    if eye == \"LR\":\n",
    "        two_eyes = True\n",
    "    return two_eyes"
   ]
  },
  {
   "cell_type": "code",
   "execution_count": 66,
   "metadata": {},
   "outputs": [
    {
     "data": {
      "text/plain": [
       "True"
      ]
     },
     "execution_count": 66,
     "metadata": {},
     "output_type": "execute_result"
    }
   ],
   "source": [
    "_2eyesmode(df_ms_reduced)\n"
   ]
  },
  {
   "cell_type": "code",
   "execution_count": 74,
   "metadata": {},
   "outputs": [],
   "source": [
    "def _extract_RecordedEye(df: pd.DataFrame) -> str:\n",
    "    eye = df[df[2] == \"RECCFG\"].iloc[0:1, 5:6].to_string(header=False, index=False)\n",
    "    if eye == \"L\":\n",
    "        return eye1\n",
    "    elif eye == \"R\":\n",
    "        return \"Right\"\n",
    "    elif eye == \"LR\":\n",
    "        return [\"Left\", \"Right\"]\n",
    "    return \"\" "
   ]
  },
  {
   "cell_type": "code",
   "execution_count": 94,
   "metadata": {},
   "outputs": [],
   "source": [
    "def _extract_AverageCalibrationError(df: pd.DataFrame) -> list[float]:\n",
    "    if not _has_validation(df):\n",
    "        return []\n",
    "    if _extract_CalibrationCount(df) > 1:\n",
    "        return np.array(_validations(df)[[9]]).astype(float).tolist()\n",
    "    return np.array(_validations(df)[[9]]).astype(float).tolist()"
   ]
  },
  {
   "cell_type": "code",
   "execution_count": 92,
   "metadata": {},
   "outputs": [],
   "source": [
    "def _extract_MaximalCalibrationError(df: pd.DataFrame) -> list[float]:\n",
    "    if not _has_validation(df):\n",
    "        return []\n",
    "    return np.array(_validations(df)[[11]]).astype(float).tolist()"
   ]
  },
  {
   "cell_type": "code",
   "execution_count": 101,
   "metadata": {},
   "outputs": [],
   "source": [
    "if _2eyesmode(df_ms_reduced) == True:\n",
    "        json_eye1 = {\n",
    "                \"RecordedEye\": (_extract_RecordedEye(df_ms_reduced)[0]),\n",
    "                \"AverageCalibrationError\": (_extract_AverageCalibrationError(df_ms)[0::2]),\n",
    "                \"MaximalCalibrationError\": (_extract_MaximalCalibrationError(df_ms)[0::2])\n",
    "        }\n",
    "        json_eye2 = {\n",
    "                \"RecordedEye\": (_extract_RecordedEye(df_ms_reduced)[1]),\n",
    "                \"AverageCalibrationError\": (_extract_AverageCalibrationError(df_ms)[1::2]),\n",
    "                \"MaximalCalibrationError\": (_extract_MaximalCalibrationError(df_ms)[1::2])\n",
    "        }\n",
    "else: json_eye1 = {\n",
    "                \"RecordedEye\": _extract_RecordedEye(df_ms_reduced),\n",
    "                \"AverageCalibrationError\": _extract_AverageCalibrationError(df_ms),\n",
    "                \"MaximalCalibrationError\": _extract_MaximalCalibrationError(df_ms)\n",
    "        }\n"
   ]
  },
  {
   "cell_type": "code",
   "execution_count": 98,
   "metadata": {},
   "outputs": [
    {
     "data": {
      "text/plain": [
       "{'RecordedEye': 'Left',\n",
       " 'AverageCalibrationError': [[0.29]],\n",
       " 'MaximalCalibrationError': [[0.62]]}"
      ]
     },
     "execution_count": 98,
     "metadata": {},
     "output_type": "execute_result"
    }
   ],
   "source": [
    "json_eye1"
   ]
  },
  {
   "cell_type": "code",
   "execution_count": 99,
   "metadata": {},
   "outputs": [
    {
     "data": {
      "text/plain": [
       "{'RecordedEye': 'Right',\n",
       " 'AverageCalibrationError': [[0.35]],\n",
       " 'MaximalCalibrationError': [[1.21]]}"
      ]
     },
     "execution_count": 99,
     "metadata": {},
     "output_type": "execute_result"
    }
   ],
   "source": [
    "json_eye2"
   ]
  },
  {
   "cell_type": "code",
   "execution_count": 103,
   "metadata": {},
   "outputs": [],
   "source": [
    "base_json = {\n",
    "            \"Manufacturer\": \"SR-Research\",\n",
    "            \"DeviceSerialNumber\": _extract_DeviceSerialNumber(events),\n",
    "            \"EyeTrackingMethod\": _extract_EyeTrackingMethod(events),\n",
    "            \"ManufacturersModelName\": _extract_ManufacturersModelName(events),\n",
    "            \"CalibrationUnit\": _extract_CalibrationUnit(df_ms_reduced),\n",
    "            \"CalibrationType\": _extract_CalibrationType(df_ms_reduced),\n",
    "            \"PupilFitMethod\": _extract_PupilFitMethod(df_ms_reduced),\n",
    "            \"SamplingFrequency\": _extract_SamplingFrequency(df_ms_reduced),\n",
    "            \"StartTime\": _extract_StartTime(events),\n",
    "            \"StopTime\": _extract_StopTime(events),\n",
    "        }"
   ]
  },
  {
   "cell_type": "code",
   "execution_count": 106,
   "metadata": {},
   "outputs": [],
   "source": [
    "if _2eyesmode(df_ms_reduced) == True:\n",
    "        metadata_eye1 = {\n",
    "                \"RecordedEye\": (_extract_RecordedEye(df_ms_reduced)[0]),\n",
    "                \"AverageCalibrationError\": (_extract_AverageCalibrationError(df_ms)[0::2]),\n",
    "                \"MaximalCalibrationError\": (_extract_MaximalCalibrationError(df_ms)[0::2])\n",
    "        }\n",
    "        metadata_eye2 = {\n",
    "                \"RecordedEye\": (_extract_RecordedEye(df_ms_reduced)[1]),\n",
    "                \"AverageCalibrationError\": (_extract_AverageCalibrationError(df_ms)[1::2]),\n",
    "                \"MaximalCalibrationError\": (_extract_MaximalCalibrationError(df_ms)[1::2])\n",
    "        }\n",
    "else: \n",
    "    metadata_eye1 = {\n",
    "            \"RecordedEye\": _extract_RecordedEye(df_ms_reduced),\n",
    "            \"AverageCalibrationError\": _extract_AverageCalibrationError(df_ms),\n",
    "            \"MaximalCalibrationError\": _extract_MaximalCalibrationError(df_ms)\n",
    "    }"
   ]
  },
  {
   "cell_type": "code",
   "execution_count": 108,
   "metadata": {},
   "outputs": [
    {
     "data": {
      "text/plain": [
       "{'Manufacturer': 'SR-Research',\n",
       " 'DeviceSerialNumber': 'CLG-BAF38',\n",
       " 'EyeTrackingMethod': 'P-CR',\n",
       " 'ManufacturersModelName': 'EYELINK II CL v5.12 May 12 2017',\n",
       " 'CalibrationUnit': 'pixel',\n",
       " 'CalibrationType': 'HV13',\n",
       " 'PupilFitMethod': 'CENTROID',\n",
       " 'SamplingFrequency': 1000,\n",
       " 'StartTime': [767979],\n",
       " 'StopTime': [819652],\n",
       " 'RecordedEye': 'Left',\n",
       " 'AverageCalibrationError': [[0.29]],\n",
       " 'MaximalCalibrationError': [[0.62]]}"
      ]
     },
     "execution_count": 108,
     "metadata": {},
     "output_type": "execute_result"
    }
   ],
   "source": [
    "json_eye1 = base_json | metadata_eye1\n",
    "json_eye1"
   ]
  },
  {
   "cell_type": "code",
   "execution_count": 109,
   "metadata": {},
   "outputs": [],
   "source": [
    "def generate_output_filename(\n",
    "    output_dir: Path, input_file: Path, suffix: str, extension: str\n",
    ") -> Path:\n",
    "    \"\"\"Generate output filename.\"\"\"\n",
    "    filename = Path(input_file).stem\n",
    "    if filename.endswith(suffix):\n",
    "        suffix = \"\"\n",
    "    return output_dir / f\"{filename}{suffix}.{extension}\""
   ]
  },
  {
   "cell_type": "code",
   "execution_count": 113,
   "metadata": {},
   "outputs": [],
   "source": [
    "if _2eyesmode == True:\n",
    "    output_filename_eye1 = generate_output_filename(\n",
    "            output_dir=output_dir, input_file=input_file, suffix=\"recording-eye1_physio\", extension=\"json\"\n",
    "        )\n",
    "    with open(output_filename_eye1, \"w\") as outfile:\n",
    "        json.dump(json_eye1, outfile, indent=4)\n",
    "\n",
    "    output_filename_eye2 = generate_output_filename(\n",
    "            output_dir=output_dir, input_file=input_file, suffix=\"recording-eye2_physio\", extension=\"json\"\n",
    "        )\n",
    "    with open(output_filename_eye2, \"w\") as outfile:\n",
    "        json.dump(json_eye2, outfile, indent=4)\n",
    "    \n",
    "    #e2b_log.info(f\"files generated: {output_filename_eye1} and {output_filename_eye2}\")\n",
    "\n",
    "else:\n",
    "    output_filename_eye1 = generate_output_filename(\n",
    "            output_dir=output_dir, input_file=input_file, suffix=\"recording-eye1_physio\", extension=\"json\"\n",
    "        )\n",
    "    with open(output_filename_eye1, \"w\") as outfile:\n",
    "        json.dump(json_eye1, outfile, indent=4)\n",
    "    \n",
    "    #e2b_log.info(f\"file generated: {output_filename_eye1}\")\n",
    "\n",
    "\n"
   ]
  }
 ],
 "metadata": {
  "kernelspec": {
   "display_name": "Python 3",
   "language": "python",
   "name": "python3"
  },
  "language_info": {
   "codemirror_mode": {
    "name": "ipython",
    "version": 3
   },
   "file_extension": ".py",
   "mimetype": "text/x-python",
   "name": "python",
   "nbconvert_exporter": "python",
   "pygments_lexer": "ipython3",
   "version": "3.12.2"
  }
 },
 "nbformat": 4,
 "nbformat_minor": 2
}
