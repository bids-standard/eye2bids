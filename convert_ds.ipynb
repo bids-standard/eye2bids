{
 "cells": [
  {
   "cell_type": "markdown",
   "id": "afd63cce-dbd7-4e8c-96f8-4af730843af8",
   "metadata": {},
   "source": [
    "#### First attempt to convert ds004158 as BIDS valid eyetracking dataset"
   ]
  },
  {
   "cell_type": "markdown",
   "id": "c00eafe4-17a0-4910-a59b-c09ffd6f8300",
   "metadata": {},
   "source": [
    "#### To do\n",
    "- [ ] get right file list in sourcedata\n",
    "- [ ] execute edf2asc command\n",
    "- [ ] convert to TSV.GZ the asc file"
   ]
  },
  {
   "cell_type": "code",
   "execution_count": 1,
   "id": "651b82ae-c876-4da1-91e0-d6fd6d31ab81",
   "metadata": {},
   "outputs": [],
   "source": [
    "import glob\n",
    "from bids import BIDSLayout\n",
    "import numpy as np\n",
    "import pandas as pd\n",
    "import subprocess\n",
    "from subprocess import DEVNULL, STDOUT\n",
    "\n",
    "# define data columns\n",
    "eye_column_names = ['eye_timestamp', 'eye1_x_coordinate', 'eye1_y_coordinate']\n",
    "usecols = (0, 1, 2)\n",
    "\n",
    "# define dataset folder\n",
    "ds_folder = '../ds004158'"
   ]
  },
  {
   "cell_type": "code",
   "execution_count": 2,
   "id": "e65f913a-b261-493f-a6a1-cdd037681bfb",
   "metadata": {},
   "outputs": [],
   "source": [
    "# get bids layout\n",
    "layout = BIDSLayout(ds_folder)"
   ]
  },
  {
   "cell_type": "code",
   "execution_count": 3,
   "id": "97690a20-d142-4057-bc8d-08b44f26436e",
   "metadata": {},
   "outputs": [],
   "source": [
    "# get subjects id\n",
    "subject_ids = layout.get(return_type='id', target='subject')"
   ]
  },
  {
   "cell_type": "code",
   "execution_count": null,
   "id": "5207eca4-c13b-4062-b07a-7a6f486fd9f1",
   "metadata": {},
   "outputs": [
    {
     "name": "stdout",
     "output_type": "stream",
     "text": [
      "saving /Users/martinszinte/Desktop/eye2bids/../ds004158/sub-01/ses-01/func/sub-01_ses-01_task-rest_run-01_eyetrack.tsv.gz\n",
      "saving /Users/martinszinte/Desktop/eye2bids/../ds004158/sub-01/ses-01/func/sub-01_ses-01_task-rest_run-02_eyetrack.tsv.gz\n",
      "saving /Users/martinszinte/Desktop/eye2bids/../ds004158/sub-02/ses-01/func/sub-02_ses-01_task-rest_run-01_eyetrack.tsv.gz\n",
      "saving /Users/martinszinte/Desktop/eye2bids/../ds004158/sub-02/ses-01/func/sub-02_ses-01_task-rest_run-02_eyetrack.tsv.gz\n",
      "saving /Users/martinszinte/Desktop/eye2bids/../ds004158/sub-03/ses-01/func/sub-03_ses-01_task-rest_run-01_eyetrack.tsv.gz\n",
      "saving /Users/martinszinte/Desktop/eye2bids/../ds004158/sub-03/ses-01/func/sub-03_ses-01_task-rest_run-02_eyetrack.tsv.gz\n"
     ]
    }
   ],
   "source": [
    "for subject_id in subject_ids:\n",
    "\n",
    "    # convert to asc\n",
    "    source_edf_fns = glob.glob(\"{}/sourcedata/sub-{}/ses-01/func/*.edf\".format(ds_folder,subject_id))\n",
    "    for source_edf_fn in source_edf_fns:\n",
    "        cmd='edf2asc {} -s -miss -1.0 -y'.format(source_edf_fn)\n",
    "        subprocess.run(cmd, shell=True, stdout=DEVNULL, stderr=STDOUT)\n",
    "\n",
    "    # load asc\n",
    "    source_asc_fns = glob.glob(\"{}/sourcedata/sub-{}/ses-01/func/*.asc\".format(ds_folder,subject_id))\n",
    "\n",
    "    # get nifti\n",
    "    nifti_fns = layout.get(subject=subject_id, extension='nii.gz', suffix='bold', return_type='filename')\n",
    "    \n",
    "    for source_asc_fn, nifti_fn in zip(source_asc_fns,nifti_fns):\n",
    "        \n",
    "        bids_tsvgz_fn = \"{}_eyetrack.tsv.gz\".format(nifti_fn[:-12])\n",
    "        print(\"saving {}\".format(bids_tsvgz_fn))\n",
    "        \n",
    "        eye_data_run = np.genfromtxt(source_asc_fn, usecols=usecols)\n",
    "        df = pd.DataFrame(eye_data_run, columns=eye_column_names)\n",
    "        df.to_csv(bids_tsvgz_fn, sep='\\t', index=False, compression='gzip')\n",
    "        "
   ]
  },
  {
   "cell_type": "code",
   "execution_count": null,
   "id": "025bd294-ce26-47e4-80c1-8e260d78eabd",
   "metadata": {},
   "outputs": [],
   "source": [
    "\n"
   ]
  },
  {
   "cell_type": "code",
   "execution_count": null,
   "id": "f210a201-67de-48cd-9a27-ed4ea8d1918d",
   "metadata": {},
   "outputs": [],
   "source": []
  }
 ],
 "metadata": {
  "kernelspec": {
   "display_name": "Python 3 (ipykernel)",
   "language": "python",
   "name": "python3"
  },
  "language_info": {
   "codemirror_mode": {
    "name": "ipython",
    "version": 3
   },
   "file_extension": ".py",
   "mimetype": "text/x-python",
   "name": "python",
   "nbconvert_exporter": "python",
   "pygments_lexer": "ipython3",
   "version": "3.9.13"
  }
 },
 "nbformat": 4,
 "nbformat_minor": 5
}
